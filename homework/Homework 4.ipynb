{
 "cells": [
  {
   "cell_type": "code",
   "execution_count": 1,
   "id": "ff9b2015-6d1b-4bda-be02-49d0cbe10dd6",
   "metadata": {},
   "outputs": [],
   "source": [
    "# Homework 4 Author: Heeirthan Shanthan Date: 10/07/23"
   ]
  },
  {
   "cell_type": "code",
   "execution_count": 2,
   "id": "1ee665a2-2b38-45fe-8cc8-925c73a99599",
   "metadata": {},
   "outputs": [],
   "source": [
    "import pandas as pd\n",
    "import numpy as np\n",
    "import cpi\n",
    "from datetime import date\n",
    "from sklearn.model_selection import train_test_split\n",
    "from sklearn.tree import DecisionTreeRegressor, plot_tree\n",
    "from sklearn.linear_model import LinearRegression\n",
    "import matplotlib.pyplot as plt"
   ]
  },
  {
   "cell_type": "code",
   "execution_count": 3,
   "id": "1c9a9c21-617b-47e5-9d9e-3856e9789988",
   "metadata": {},
   "outputs": [],
   "source": [
    "df = pd.read_csv('/Users/heeir/Downloads/county_info.csv')"
   ]
  },
  {
   "cell_type": "code",
   "execution_count": 4,
   "id": "4898dd75-de34-4034-9e03-c2ea2209dc64",
   "metadata": {},
   "outputs": [],
   "source": [
    "#compute annual growth rate of population and append this column to dataset as it becomes new feature\n",
    "start_pop = df['pop_in_2000']\n",
    "end_pop = df['pop_in_later_year']\n",
    "total_pop_growth = ((end_pop-start_pop)/start_pop)*100\n",
    "annual_pop_growth = total_pop_growth/(df['pop_ref_later_year']-2000)\n",
    "df['annual_pop_gr'] = annual_pop_growth\n",
    "df.to_csv('county_info.csv')"
   ]
  },
  {
   "cell_type": "code",
   "execution_count": 5,
   "id": "241411f1-f778-4b27-a0af-1c5366863833",
   "metadata": {},
   "outputs": [],
   "source": [
    "#compute annual house value and append this column to dataset as it becomes new feature\n",
    "start_houseval= df['median_house_value_2000']\n",
    "end_houseval = df['median_house_value_2017']\n",
    "total_houseval_growth = ((end_houseval- start_houseval)/start_houseval)*100\n",
    "annual_houseval_growth = total_houseval_growth/(2017-2000)\n",
    "df['annual_house_gr'] = annual_houseval_growth\n",
    "df.to_csv('county_info.csv')"
   ]
  },
  {
   "cell_type": "code",
   "execution_count": 6,
   "id": "47ab0e96-48a8-472f-982c-5955e34bedff",
   "metadata": {},
   "outputs": [],
   "source": [
    "#adjust all dollar figures to 2022/03/01 using python CPI package\n",
    "df['median_house_income_2017'] = df['median_house_income_2017'].apply(lambda row: cpi.inflate(row,date(2017,1,1),to=date(2022,3,1)));\n",
    "df['cost_of_living_usd'] = df['cost_of_living_usd'].apply(lambda row: cpi.inflate(row,date(2019,1,1),to=date(2022,3,1)));\n",
    "df[['state', 'county', 'median_house_income_2017', 'cost_of_living_usd']];"
   ]
  },
  {
   "cell_type": "code",
   "execution_count": 7,
   "id": "2f46d022-a1f4-4fdd-b4a5-f885ec5cbc1e",
   "metadata": {},
   "outputs": [],
   "source": [
    "# Define feature set and target variable\n",
    "features = ['pop_foreign_born', 'adult_obes_rate', 'pop_per_sq_mi', 'pop_percent_urban', 'poverty_pct', \n",
    "            'median_house_income_2017', 'cost_of_living_usd', 'annual_pop_gr', 'annual_house_gr']\n",
    "target = ['median_house_value_2000']"
   ]
  },
  {
   "cell_type": "code",
   "execution_count": 8,
   "id": "347d8410-23f2-4871-a79c-8e8646111dfb",
   "metadata": {},
   "outputs": [],
   "source": [
    "#Drop rows lacking entries and split into train-val-test subsets\n",
    "df = df.dropna(subset = features+target)\n",
    "x_tr,x_va,y_tr,y_va = train_test_split(df[features],df[target],test_size = 0.4,random_state=0)\n",
    "x_va,x_te,y_va,y_te = train_test_split(x_va,y_va,test_size = 0.5,random_state=0)"
   ]
  },
  {
   "cell_type": "code",
   "execution_count": 9,
   "id": "c051368f-61ea-4b4a-9ea6-fe8949ec2050",
   "metadata": {},
   "outputs": [],
   "source": [
    "#Prevent randomizations when instantiating tree\n",
    "tr = DecisionTreeRegressor(random_state = 0)"
   ]
  },
  {
   "cell_type": "code",
   "execution_count": 10,
   "id": "3bb5e57b-54da-4d1e-9af2-b5cd500d246c",
   "metadata": {},
   "outputs": [
    {
     "data": {
      "text/plain": [
       "1.0"
      ]
     },
     "execution_count": 10,
     "metadata": {},
     "output_type": "execute_result"
    }
   ],
   "source": [
    "#Training decision tree and scoring on training data\n",
    "tr.fit(x_tr,y_tr)\n",
    "tr.score(x_tr, y_tr)"
   ]
  },
  {
   "cell_type": "code",
   "execution_count": 11,
   "id": "f06124d0-90c3-4824-a415-354e3847e0c6",
   "metadata": {},
   "outputs": [],
   "source": [
    "#The R^2 score for the decision tree is perfect, but this does not necessary mean good news.\n",
    "# This could mean that the model is overfitted, and that the model likely just memorized the data."
   ]
  },
  {
   "cell_type": "code",
   "execution_count": 12,
   "id": "2ae2ac42-e436-47fb-bf4c-167e752ee8c5",
   "metadata": {},
   "outputs": [
    {
     "data": {
      "text/plain": [
       "0.6767993406985212"
      ]
     },
     "execution_count": 12,
     "metadata": {},
     "output_type": "execute_result"
    }
   ],
   "source": [
    "#Scoring the decision tree on val data:\n",
    "tr.score(x_va,y_va)"
   ]
  },
  {
   "cell_type": "code",
   "execution_count": 13,
   "id": "9b6e7777-380e-446a-93d1-a9572a73e3e4",
   "metadata": {},
   "outputs": [],
   "source": [
    "#The decision tree result on the validation data proves the point made above.\n",
    "# Even though the model was deemed a literal perfect fit based on training data score,\n",
    "# it did not score as well on the validation data. However, I do believe this accuracy will improve as we tune\n",
    "# the tree depth hyperparameter."
   ]
  },
  {
   "cell_type": "code",
   "execution_count": 14,
   "id": "b19f6ab4-450b-4fa2-8866-df25ceabdec4",
   "metadata": {},
   "outputs": [],
   "source": [
    "# Training linear model and scoring on training data:\n",
    "lr = LinearRegression()"
   ]
  },
  {
   "cell_type": "code",
   "execution_count": 15,
   "id": "fcced162-454a-4864-b749-dd8bab9832a7",
   "metadata": {},
   "outputs": [
    {
     "data": {
      "text/plain": [
       "0.6867867465132838"
      ]
     },
     "execution_count": 15,
     "metadata": {},
     "output_type": "execute_result"
    }
   ],
   "source": [
    "lr.fit(x_tr,y_tr)\n",
    "lr.score(x_tr,y_tr)"
   ]
  },
  {
   "cell_type": "code",
   "execution_count": 16,
   "id": "d0d77dab-475e-4b9d-9ca4-455936787d21",
   "metadata": {},
   "outputs": [],
   "source": [
    "# The training data score is not the best, but certainly more realistic than that perfect R-1 score \n",
    "# from the decision tree on training data.\n",
    "# From this score, we can tell that there is significantly less risk of overfitting compared to \n",
    "# the training data"
   ]
  },
  {
   "cell_type": "code",
   "execution_count": 17,
   "id": "d794a7d5-aea6-41d8-a090-c45b4dc21dce",
   "metadata": {},
   "outputs": [
    {
     "data": {
      "text/plain": [
       "0.7103345183725724"
      ]
     },
     "execution_count": 17,
     "metadata": {},
     "output_type": "execute_result"
    }
   ],
   "source": [
    "#Scoring the linear model on val data\n",
    "lr.score(x_va,y_va)"
   ]
  },
  {
   "cell_type": "code",
   "execution_count": 18,
   "id": "ad3a8139-bc9f-494b-9617-23a37d8d3324",
   "metadata": {},
   "outputs": [],
   "source": [
    "# An increase in accuracy from training data to validation data is good news, and means that \n",
    "# the linear model at the moment performs better in response to new, unseen data.\n",
    "# This means that there isn't overfitting going on, in contrary to what is seen in the\n",
    "# decrease in accuracy between training and validation data for the decision tree."
   ]
  },
  {
   "cell_type": "code",
   "execution_count": 19,
   "id": "12ddaa29-f133-4133-bc6d-7f42e148d8a9",
   "metadata": {},
   "outputs": [
    {
     "data": {
      "text/plain": [
       "22"
      ]
     },
     "execution_count": 19,
     "metadata": {},
     "output_type": "execute_result"
    }
   ],
   "source": [
    "#Reporting tree depth:\n",
    "tr.get_depth()"
   ]
  },
  {
   "cell_type": "code",
   "execution_count": 20,
   "id": "e4d59d5e-ba7b-4818-8a41-21872ff288b5",
   "metadata": {},
   "outputs": [],
   "source": [
    "#Now, optimizing the max_depth hyperparameter using default squared_error:\n",
    "acc_tr =[]\n",
    "acc_val = []\n",
    "for i in range(1,23):\n",
    "    tr = DecisionTreeRegressor(max_depth = i,random_state = 0)\n",
    "    tr.fit(x_tr,y_tr)\n",
    "    acc_tr.append(tr.score(x_tr,y_tr))\n",
    "    acc_val.append(tr.score(x_va,y_va))"
   ]
  },
  {
   "cell_type": "code",
   "execution_count": 21,
   "id": "f303ff3c-d0ce-4cdc-b924-2ccaa357f7dc",
   "metadata": {},
   "outputs": [
    {
     "data": {
      "image/png": "[encoded data removed]",
      "text/plain": [
       "<Figure size 1000x700 with 1 Axes>"
      ]
     },
     "metadata": {},
     "output_type": "display_data"
    }
   ],
   "source": [
    "fig,ax = plt.subplots(figsize = (10,7))\n",
    "plt.scatter(range(1,23),acc_tr, label = 'train')\n",
    "plt.scatter(range(1,23),acc_val, label = 'val')\n",
    "plt.grid();\n",
    "plt.legend();"
   ]
  },
  {
   "cell_type": "code",
   "execution_count": 22,
   "id": "302d3188-20f7-434e-9c94-6b5d4ed2b1f4",
   "metadata": {},
   "outputs": [],
   "source": [
    "# I would select a depth of 4, as the difference in accuracy between training and validation is so small, while validation\n",
    "# accuracy is at its highest"
   ]
  },
  {
   "cell_type": "code",
   "execution_count": 23,
   "id": "b144c39e-6efc-47d5-852a-d5f8b209ffa4",
   "metadata": {},
   "outputs": [
    {
     "data": {
      "text/plain": [
       "22"
      ]
     },
     "execution_count": 23,
     "metadata": {},
     "output_type": "execute_result"
    }
   ],
   "source": [
    "# Now, doing the same for decision tree with poisson criterion\n",
    "tr = DecisionTreeRegressor(criterion = 'poisson',random_state = 0)\n",
    "tr.fit(x_tr,y_tr)\n",
    "tr.get_depth()"
   ]
  },
  {
   "cell_type": "code",
   "execution_count": 24,
   "id": "809b5b17-60f7-4cd5-8980-be6163f3928d",
   "metadata": {},
   "outputs": [],
   "source": [
    "#Now, optimizing the max_depth hyperparameter for poisson criterion:\n",
    "acc_tr_p =[]\n",
    "acc_val_p = []\n",
    "for i in range(1,23):\n",
    "    tr = DecisionTreeRegressor(max_depth = i,criterion = 'poisson',random_state = 0)\n",
    "    tr.fit(x_tr,y_tr)\n",
    "    acc_tr_p.append(tr.score(x_tr,y_tr))\n",
    "    acc_val_p.append(tr.score(x_va,y_va))"
   ]
  },
  {
   "cell_type": "code",
   "execution_count": 25,
   "id": "f6642543-334b-4b61-a12c-71bccf874b26",
   "metadata": {},
   "outputs": [
    {
     "data": {
      "image/png": "[encoded data removed]",
      "text/plain": [
       "<Figure size 1000x700 with 1 Axes>"
      ]
     },
     "metadata": {},
     "output_type": "display_data"
    }
   ],
   "source": [
    "# Comparing models using plot\n",
    "fig,ax = plt.subplots(figsize = (10,7))\n",
    "plt.scatter(range(1,23),acc_tr, color = '#FF0000',label = 'train_sqe')\n",
    "plt.scatter(range(1,23),acc_val, color = '#0000FF',label = 'val_sqe')\n",
    "plt.scatter(range(1,23),acc_tr_p, color = '#770000',label = 'train_p')\n",
    "plt.scatter(range(1,23),acc_val_p, color = '#00FF00',label = 'val_p')\n",
    "plt.grid();\n",
    "plt.legend();"
   ]
  },
  {
   "cell_type": "code",
   "execution_count": 26,
   "id": "4253fe6a-159f-4756-ac09-b20e7f84524c",
   "metadata": {},
   "outputs": [
    {
     "name": "stdout",
     "output_type": "stream",
     "text": [
      "0.7676768939106761\n"
     ]
    }
   ],
   "source": [
    "# At max depth = 4 for squared_error is superior. We have the smallest difference between training and validation data points,\n",
    "# and the validation score is at its highest at this depth.\n",
    "#Now, comparing this to linear regression model:\n",
    "tr = DecisionTreeRegressor(max_depth = 4,random_state = 0)\n",
    "tr.fit(x_tr,y_tr)\n",
    "print(tr.score(x_va,y_va))"
   ]
  },
  {
   "cell_type": "code",
   "execution_count": 27,
   "id": "10e09c79-fabd-4226-a876-e322fc434aa8",
   "metadata": {},
   "outputs": [
    {
     "name": "stdout",
     "output_type": "stream",
     "text": [
      "0.7103345183725724\n"
     ]
    }
   ],
   "source": [
    "#Regression model:\n",
    "print(lr.score(x_va,y_va))"
   ]
  },
  {
   "cell_type": "code",
   "execution_count": 28,
   "id": "59a57a06-98d7-4a73-83e2-7e388a78a9d7",
   "metadata": {},
   "outputs": [],
   "source": [
    "# We can see that based on accuracy for the validation set, \n",
    "# the decision tree using squared_error comes out on top.\n",
    "#Now, we see how well it performs on test data"
   ]
  },
  {
   "cell_type": "code",
   "execution_count": 29,
   "id": "234c1cc0-5be1-45ae-83a8-42381698224b",
   "metadata": {},
   "outputs": [
    {
     "name": "stdout",
     "output_type": "stream",
     "text": [
      "0.6785189549507262\n"
     ]
    }
   ],
   "source": [
    "tr = DecisionTreeRegressor(max_depth = 4,random_state = 0)\n",
    "tr.fit(x_tr,y_tr)\n",
    "print(tr.score(x_te,y_te))"
   ]
  }
 ],
 "metadata": {
  "kernelspec": {
   "display_name": "Python 3 (ipykernel)",
   "language": "python",
   "name": "python3"
  },
  "language_info": {
   "codemirror_mode": {
    "name": "ipython",
    "version": 3
   },
   "file_extension": ".py",
   "mimetype": "text/x-python",
   "name": "python",
   "nbconvert_exporter": "python",
   "pygments_lexer": "ipython3",
   "version": "3.11.4"
  }
 },
 "nbformat": 4,
 "nbformat_minor": 5
}
