{
 "cells": [
  {
   "cell_type": "code",
   "execution_count": 1,
   "id": "55296665-c35f-494d-8c53-228ca6570184",
   "metadata": {},
   "outputs": [],
   "source": [
    "# Homework 3 Author: Heeirthan Shanthan Date: 09/29/23"
   ]
  },
  {
   "cell_type": "code",
   "execution_count": 2,
   "id": "2e4aeab0-b38f-4fd4-8aa7-e67c26c222d0",
   "metadata": {},
   "outputs": [],
   "source": [
    "import pandas as pd"
   ]
  },
  {
   "cell_type": "code",
   "execution_count": 3,
   "id": "b727da36-bb0a-4b98-b28f-5be5bb730fe1",
   "metadata": {},
   "outputs": [],
   "source": [
    "df = pd.read_csv('/Users/heeir/Downloads/housing.csv')"
   ]
  },
  {
   "cell_type": "code",
   "execution_count": 4,
   "id": "51dda050-10c1-4ac6-8288-bf423391c5c9",
   "metadata": {},
   "outputs": [],
   "source": [
    "# let's model median_house_value as our target variable\n",
    "# I'll pick these six features\n",
    "# I don't think lat and long will be useful for a linear model,\n",
    "# and I will omit the string column ocean_proximity\n",
    "features = ['housing_median_age', 'total_rooms','total_bedrooms',\n",
    "            'population', 'households', 'median_income']\n",
    "target = ['median_house_value']"
   ]
  },
  {
   "cell_type": "code",
   "execution_count": 5,
   "id": "8e605634-c012-4807-8f95-17419defd071",
   "metadata": {},
   "outputs": [],
   "source": [
    "# drop columns we won't use\n",
    "df = df[features+target]"
   ]
  },
  {
   "cell_type": "code",
   "execution_count": 6,
   "id": "8b867653-248b-449d-959e-0ee3e2192e95",
   "metadata": {},
   "outputs": [],
   "source": [
    "# drop rows with missing data in one of the remaining columns\n",
    "df = df.dropna()"
   ]
  },
  {
   "cell_type": "code",
   "execution_count": 7,
   "id": "f83ccccf-a77e-49b5-a91d-4b79487fdbfe",
   "metadata": {},
   "outputs": [],
   "source": [
    "# let's do a train-val-test split\n",
    "from sklearn.model_selection import train_test_split\n",
    "x_train,x_test,y_train,y_test = train_test_split(df[features],\n",
    "                                                 df[target],\n",
    "                                                 test_size = 0.4,\n",
    "                                                 random_state = 0)"
   ]
  },
  {
   "cell_type": "code",
   "execution_count": 8,
   "id": "46ae7627-2bad-4383-9829-efa212461457",
   "metadata": {},
   "outputs": [],
   "source": [
    "x_val,x_test,y_val,y_test = train_test_split(x_test,\n",
    "                                             y_test,\n",
    "                                             test_size = 0.5,\n",
    "                                             random_state = 0)"
   ]
  },
  {
   "cell_type": "code",
   "execution_count": 9,
   "id": "3ce7f6a7-b41c-45ba-943a-02a35d83601d",
   "metadata": {},
   "outputs": [],
   "source": [
    "from sklearn.linear_model import LinearRegression"
   ]
  },
  {
   "cell_type": "code",
   "execution_count": 10,
   "id": "c6b0bed9-b744-4b08-81ba-1cc520a22dcf",
   "metadata": {},
   "outputs": [],
   "source": [
    "lr = LinearRegression()"
   ]
  },
  {
   "cell_type": "code",
   "execution_count": 11,
   "id": "03e4787d-0fd5-4169-98d8-5c4ee47c72e2",
   "metadata": {},
   "outputs": [
    {
     "data": {
      "text/plain": [
       "0.5614677159523239"
      ]
     },
     "execution_count": 11,
     "metadata": {},
     "output_type": "execute_result"
    }
   ],
   "source": [
    "lr.fit(x_train,y_train)\n",
    "lr.score(x_val,y_val)"
   ]
  },
  {
   "cell_type": "code",
   "execution_count": 12,
   "id": "80617b15-6fa1-4bfe-bc75-d4ebd68f1e7c",
   "metadata": {},
   "outputs": [],
   "source": [
    "import matplotlib.pyplot as plt\n",
    "from itertools import combinations"
   ]
  },
  {
   "cell_type": "code",
   "execution_count": 13,
   "id": "fa881819-04a0-4b79-88f5-39749734b896",
   "metadata": {},
   "outputs": [],
   "source": [
    "from sklearn.decomposition import PCA"
   ]
  },
  {
   "cell_type": "code",
   "execution_count": 14,
   "id": "42b1fd52-1f78-4cfd-91a9-2542f4c803e4",
   "metadata": {},
   "outputs": [],
   "source": [
    "pca = PCA(n_components=6) # controls how many principal components are returned\n",
    "# this gives us an object we can fit to some data"
   ]
  },
  {
   "cell_type": "code",
   "execution_count": 15,
   "id": "68c68c01-cf5b-4653-a366-52ea4cc9b034",
   "metadata": {},
   "outputs": [
    {
     "data": {
      "text/html": [
       "<style>#sk-container-id-1 {color: black;}#sk-container-id-1 pre{padding: 0;}#sk-container-id-1 div.sk-toggleable {background-color: white;}#sk-container-id-1 label.sk-toggleable__label {cursor: pointer;display: block;width: 100%;margin-bottom: 0;padding: 0.3em;box-sizing: border-box;text-align: center;}#sk-container-id-1 label.sk-toggleable__label-arrow:before {content: \"▸\";float: left;margin-right: 0.25em;color: #696969;}#sk-container-id-1 label.sk-toggleable__label-arrow:hover:before {color: black;}#sk-container-id-1 div.sk-estimator:hover label.sk-toggleable__label-arrow:before {color: black;}#sk-container-id-1 div.sk-toggleable__content {max-height: 0;max-width: 0;overflow: hidden;text-align: left;background-color: #f0f8ff;}#sk-container-id-1 div.sk-toggleable__content pre {margin: 0.2em;color: black;border-radius: 0.25em;background-color: #f0f8ff;}#sk-container-id-1 input.sk-toggleable__control:checked~div.sk-toggleable__content {max-height: 200px;max-width: 100%;overflow: auto;}#sk-container-id-1 input.sk-toggleable__control:checked~label.sk-toggleable__label-arrow:before {content: \"▾\";}#sk-container-id-1 div.sk-estimator input.sk-toggleable__control:checked~label.sk-toggleable__label {background-color: #d4ebff;}#sk-container-id-1 div.sk-label input.sk-toggleable__control:checked~label.sk-toggleable__label {background-color: #d4ebff;}#sk-container-id-1 input.sk-hidden--visually {border: 0;clip: rect(1px 1px 1px 1px);clip: rect(1px, 1px, 1px, 1px);height: 1px;margin: -1px;overflow: hidden;padding: 0;position: absolute;width: 1px;}#sk-container-id-1 div.sk-estimator {font-family: monospace;background-color: #f0f8ff;border: 1px dotted black;border-radius: 0.25em;box-sizing: border-box;margin-bottom: 0.5em;}#sk-container-id-1 div.sk-estimator:hover {background-color: #d4ebff;}#sk-container-id-1 div.sk-parallel-item::after {content: \"\";width: 100%;border-bottom: 1px solid gray;flex-grow: 1;}#sk-container-id-1 div.sk-label:hover label.sk-toggleable__label {background-color: #d4ebff;}#sk-container-id-1 div.sk-serial::before {content: \"\";position: absolute;border-left: 1px solid gray;box-sizing: border-box;top: 0;bottom: 0;left: 50%;z-index: 0;}#sk-container-id-1 div.sk-serial {display: flex;flex-direction: column;align-items: center;background-color: white;padding-right: 0.2em;padding-left: 0.2em;position: relative;}#sk-container-id-1 div.sk-item {position: relative;z-index: 1;}#sk-container-id-1 div.sk-parallel {display: flex;align-items: stretch;justify-content: center;background-color: white;position: relative;}#sk-container-id-1 div.sk-item::before, #sk-container-id-1 div.sk-parallel-item::before {content: \"\";position: absolute;border-left: 1px solid gray;box-sizing: border-box;top: 0;bottom: 0;left: 50%;z-index: -1;}#sk-container-id-1 div.sk-parallel-item {display: flex;flex-direction: column;z-index: 1;position: relative;background-color: white;}#sk-container-id-1 div.sk-parallel-item:first-child::after {align-self: flex-end;width: 50%;}#sk-container-id-1 div.sk-parallel-item:last-child::after {align-self: flex-start;width: 50%;}#sk-container-id-1 div.sk-parallel-item:only-child::after {width: 0;}#sk-container-id-1 div.sk-dashed-wrapped {border: 1px dashed gray;margin: 0 0.4em 0.5em 0.4em;box-sizing: border-box;padding-bottom: 0.4em;background-color: white;}#sk-container-id-1 div.sk-label label {font-family: monospace;font-weight: bold;display: inline-block;line-height: 1.2em;}#sk-container-id-1 div.sk-label-container {text-align: center;}#sk-container-id-1 div.sk-container {/* jupyter's `normalize.less` sets `[hidden] { display: none; }` but bootstrap.min.css set `[hidden] { display: none !important; }` so we also need the `!important` here to be able to override the default hidden behavior on the sphinx rendered scikit-learn.org. See: https://github.com/scikit-learn/scikit-learn/issues/21755 */display: inline-block !important;position: relative;}#sk-container-id-1 div.sk-text-repr-fallback {display: none;}</style><div id=\"sk-container-id-1\" class=\"sk-top-container\"><div class=\"sk-text-repr-fallback\"><pre>PCA(n_components=6)</pre><b>In a Jupyter environment, please rerun this cell to show the HTML representation or trust the notebook. <br />On GitHub, the HTML representation is unable to render, please try loading this page with nbviewer.org.</b></div><div class=\"sk-container\" hidden><div class=\"sk-item\"><div class=\"sk-estimator sk-toggleable\"><input class=\"sk-toggleable__control sk-hidden--visually\" id=\"sk-estimator-id-1\" type=\"checkbox\" checked><label for=\"sk-estimator-id-1\" class=\"sk-toggleable__label sk-toggleable__label-arrow\">PCA</label><div class=\"sk-toggleable__content\"><pre>PCA(n_components=6)</pre></div></div></div></div></div>"
      ],
      "text/plain": [
       "PCA(n_components=6)"
      ]
     },
     "execution_count": 15,
     "metadata": {},
     "output_type": "execute_result"
    }
   ],
   "source": [
    "pca.fit(x_train)"
   ]
  },
  {
   "cell_type": "code",
   "execution_count": 16,
   "id": "1c6de8e6-2539-46b3-85b3-ba2d7cd9ee41",
   "metadata": {},
   "outputs": [],
   "source": [
    "# let's normalize the data first\n",
    "from sklearn import preprocessing"
   ]
  },
  {
   "cell_type": "code",
   "execution_count": 17,
   "id": "ea8cdb72-7b5c-4990-a274-72c14a14626a",
   "metadata": {},
   "outputs": [],
   "source": [
    "scaler = preprocessing.StandardScaler()"
   ]
  },
  {
   "cell_type": "code",
   "execution_count": 18,
   "id": "e95d62b0-f45c-4b92-a96d-7babb5ee5295",
   "metadata": {},
   "outputs": [
    {
     "data": {
      "text/html": [
       "<style>#sk-container-id-2 {color: black;}#sk-container-id-2 pre{padding: 0;}#sk-container-id-2 div.sk-toggleable {background-color: white;}#sk-container-id-2 label.sk-toggleable__label {cursor: pointer;display: block;width: 100%;margin-bottom: 0;padding: 0.3em;box-sizing: border-box;text-align: center;}#sk-container-id-2 label.sk-toggleable__label-arrow:before {content: \"▸\";float: left;margin-right: 0.25em;color: #696969;}#sk-container-id-2 label.sk-toggleable__label-arrow:hover:before {color: black;}#sk-container-id-2 div.sk-estimator:hover label.sk-toggleable__label-arrow:before {color: black;}#sk-container-id-2 div.sk-toggleable__content {max-height: 0;max-width: 0;overflow: hidden;text-align: left;background-color: #f0f8ff;}#sk-container-id-2 div.sk-toggleable__content pre {margin: 0.2em;color: black;border-radius: 0.25em;background-color: #f0f8ff;}#sk-container-id-2 input.sk-toggleable__control:checked~div.sk-toggleable__content {max-height: 200px;max-width: 100%;overflow: auto;}#sk-container-id-2 input.sk-toggleable__control:checked~label.sk-toggleable__label-arrow:before {content: \"▾\";}#sk-container-id-2 div.sk-estimator input.sk-toggleable__control:checked~label.sk-toggleable__label {background-color: #d4ebff;}#sk-container-id-2 div.sk-label input.sk-toggleable__control:checked~label.sk-toggleable__label {background-color: #d4ebff;}#sk-container-id-2 input.sk-hidden--visually {border: 0;clip: rect(1px 1px 1px 1px);clip: rect(1px, 1px, 1px, 1px);height: 1px;margin: -1px;overflow: hidden;padding: 0;position: absolute;width: 1px;}#sk-container-id-2 div.sk-estimator {font-family: monospace;background-color: #f0f8ff;border: 1px dotted black;border-radius: 0.25em;box-sizing: border-box;margin-bottom: 0.5em;}#sk-container-id-2 div.sk-estimator:hover {background-color: #d4ebff;}#sk-container-id-2 div.sk-parallel-item::after {content: \"\";width: 100%;border-bottom: 1px solid gray;flex-grow: 1;}#sk-container-id-2 div.sk-label:hover label.sk-toggleable__label {background-color: #d4ebff;}#sk-container-id-2 div.sk-serial::before {content: \"\";position: absolute;border-left: 1px solid gray;box-sizing: border-box;top: 0;bottom: 0;left: 50%;z-index: 0;}#sk-container-id-2 div.sk-serial {display: flex;flex-direction: column;align-items: center;background-color: white;padding-right: 0.2em;padding-left: 0.2em;position: relative;}#sk-container-id-2 div.sk-item {position: relative;z-index: 1;}#sk-container-id-2 div.sk-parallel {display: flex;align-items: stretch;justify-content: center;background-color: white;position: relative;}#sk-container-id-2 div.sk-item::before, #sk-container-id-2 div.sk-parallel-item::before {content: \"\";position: absolute;border-left: 1px solid gray;box-sizing: border-box;top: 0;bottom: 0;left: 50%;z-index: -1;}#sk-container-id-2 div.sk-parallel-item {display: flex;flex-direction: column;z-index: 1;position: relative;background-color: white;}#sk-container-id-2 div.sk-parallel-item:first-child::after {align-self: flex-end;width: 50%;}#sk-container-id-2 div.sk-parallel-item:last-child::after {align-self: flex-start;width: 50%;}#sk-container-id-2 div.sk-parallel-item:only-child::after {width: 0;}#sk-container-id-2 div.sk-dashed-wrapped {border: 1px dashed gray;margin: 0 0.4em 0.5em 0.4em;box-sizing: border-box;padding-bottom: 0.4em;background-color: white;}#sk-container-id-2 div.sk-label label {font-family: monospace;font-weight: bold;display: inline-block;line-height: 1.2em;}#sk-container-id-2 div.sk-label-container {text-align: center;}#sk-container-id-2 div.sk-container {/* jupyter's `normalize.less` sets `[hidden] { display: none; }` but bootstrap.min.css set `[hidden] { display: none !important; }` so we also need the `!important` here to be able to override the default hidden behavior on the sphinx rendered scikit-learn.org. See: https://github.com/scikit-learn/scikit-learn/issues/21755 */display: inline-block !important;position: relative;}#sk-container-id-2 div.sk-text-repr-fallback {display: none;}</style><div id=\"sk-container-id-2\" class=\"sk-top-container\"><div class=\"sk-text-repr-fallback\"><pre>StandardScaler()</pre><b>In a Jupyter environment, please rerun this cell to show the HTML representation or trust the notebook. <br />On GitHub, the HTML representation is unable to render, please try loading this page with nbviewer.org.</b></div><div class=\"sk-container\" hidden><div class=\"sk-item\"><div class=\"sk-estimator sk-toggleable\"><input class=\"sk-toggleable__control sk-hidden--visually\" id=\"sk-estimator-id-2\" type=\"checkbox\" checked><label for=\"sk-estimator-id-2\" class=\"sk-toggleable__label sk-toggleable__label-arrow\">StandardScaler</label><div class=\"sk-toggleable__content\"><pre>StandardScaler()</pre></div></div></div></div></div>"
      ],
      "text/plain": [
       "StandardScaler()"
      ]
     },
     "execution_count": 18,
     "metadata": {},
     "output_type": "execute_result"
    }
   ],
   "source": [
    "# I fit the scaler to my training data\n",
    "scaler.fit(x_train)"
   ]
  },
  {
   "cell_type": "code",
   "execution_count": 19,
   "id": "ff61da1a-0ab0-49ba-8286-3b754781c371",
   "metadata": {},
   "outputs": [],
   "source": [
    "x_train_sc = scaler.transform(x_train)"
   ]
  },
  {
   "cell_type": "code",
   "execution_count": 20,
   "id": "d33e257a-1b06-49f9-86cc-8e02f5b23654",
   "metadata": {},
   "outputs": [
    {
     "data": {
      "text/html": [
       "<style>#sk-container-id-3 {color: black;}#sk-container-id-3 pre{padding: 0;}#sk-container-id-3 div.sk-toggleable {background-color: white;}#sk-container-id-3 label.sk-toggleable__label {cursor: pointer;display: block;width: 100%;margin-bottom: 0;padding: 0.3em;box-sizing: border-box;text-align: center;}#sk-container-id-3 label.sk-toggleable__label-arrow:before {content: \"▸\";float: left;margin-right: 0.25em;color: #696969;}#sk-container-id-3 label.sk-toggleable__label-arrow:hover:before {color: black;}#sk-container-id-3 div.sk-estimator:hover label.sk-toggleable__label-arrow:before {color: black;}#sk-container-id-3 div.sk-toggleable__content {max-height: 0;max-width: 0;overflow: hidden;text-align: left;background-color: #f0f8ff;}#sk-container-id-3 div.sk-toggleable__content pre {margin: 0.2em;color: black;border-radius: 0.25em;background-color: #f0f8ff;}#sk-container-id-3 input.sk-toggleable__control:checked~div.sk-toggleable__content {max-height: 200px;max-width: 100%;overflow: auto;}#sk-container-id-3 input.sk-toggleable__control:checked~label.sk-toggleable__label-arrow:before {content: \"▾\";}#sk-container-id-3 div.sk-estimator input.sk-toggleable__control:checked~label.sk-toggleable__label {background-color: #d4ebff;}#sk-container-id-3 div.sk-label input.sk-toggleable__control:checked~label.sk-toggleable__label {background-color: #d4ebff;}#sk-container-id-3 input.sk-hidden--visually {border: 0;clip: rect(1px 1px 1px 1px);clip: rect(1px, 1px, 1px, 1px);height: 1px;margin: -1px;overflow: hidden;padding: 0;position: absolute;width: 1px;}#sk-container-id-3 div.sk-estimator {font-family: monospace;background-color: #f0f8ff;border: 1px dotted black;border-radius: 0.25em;box-sizing: border-box;margin-bottom: 0.5em;}#sk-container-id-3 div.sk-estimator:hover {background-color: #d4ebff;}#sk-container-id-3 div.sk-parallel-item::after {content: \"\";width: 100%;border-bottom: 1px solid gray;flex-grow: 1;}#sk-container-id-3 div.sk-label:hover label.sk-toggleable__label {background-color: #d4ebff;}#sk-container-id-3 div.sk-serial::before {content: \"\";position: absolute;border-left: 1px solid gray;box-sizing: border-box;top: 0;bottom: 0;left: 50%;z-index: 0;}#sk-container-id-3 div.sk-serial {display: flex;flex-direction: column;align-items: center;background-color: white;padding-right: 0.2em;padding-left: 0.2em;position: relative;}#sk-container-id-3 div.sk-item {position: relative;z-index: 1;}#sk-container-id-3 div.sk-parallel {display: flex;align-items: stretch;justify-content: center;background-color: white;position: relative;}#sk-container-id-3 div.sk-item::before, #sk-container-id-3 div.sk-parallel-item::before {content: \"\";position: absolute;border-left: 1px solid gray;box-sizing: border-box;top: 0;bottom: 0;left: 50%;z-index: -1;}#sk-container-id-3 div.sk-parallel-item {display: flex;flex-direction: column;z-index: 1;position: relative;background-color: white;}#sk-container-id-3 div.sk-parallel-item:first-child::after {align-self: flex-end;width: 50%;}#sk-container-id-3 div.sk-parallel-item:last-child::after {align-self: flex-start;width: 50%;}#sk-container-id-3 div.sk-parallel-item:only-child::after {width: 0;}#sk-container-id-3 div.sk-dashed-wrapped {border: 1px dashed gray;margin: 0 0.4em 0.5em 0.4em;box-sizing: border-box;padding-bottom: 0.4em;background-color: white;}#sk-container-id-3 div.sk-label label {font-family: monospace;font-weight: bold;display: inline-block;line-height: 1.2em;}#sk-container-id-3 div.sk-label-container {text-align: center;}#sk-container-id-3 div.sk-container {/* jupyter's `normalize.less` sets `[hidden] { display: none; }` but bootstrap.min.css set `[hidden] { display: none !important; }` so we also need the `!important` here to be able to override the default hidden behavior on the sphinx rendered scikit-learn.org. See: https://github.com/scikit-learn/scikit-learn/issues/21755 */display: inline-block !important;position: relative;}#sk-container-id-3 div.sk-text-repr-fallback {display: none;}</style><div id=\"sk-container-id-3\" class=\"sk-top-container\"><div class=\"sk-text-repr-fallback\"><pre>PCA()</pre><b>In a Jupyter environment, please rerun this cell to show the HTML representation or trust the notebook. <br />On GitHub, the HTML representation is unable to render, please try loading this page with nbviewer.org.</b></div><div class=\"sk-container\" hidden><div class=\"sk-item\"><div class=\"sk-estimator sk-toggleable\"><input class=\"sk-toggleable__control sk-hidden--visually\" id=\"sk-estimator-id-3\" type=\"checkbox\" checked><label for=\"sk-estimator-id-3\" class=\"sk-toggleable__label sk-toggleable__label-arrow\">PCA</label><div class=\"sk-toggleable__content\"><pre>PCA()</pre></div></div></div></div></div>"
      ],
      "text/plain": [
       "PCA()"
      ]
     },
     "execution_count": 20,
     "metadata": {},
     "output_type": "execute_result"
    }
   ],
   "source": [
    "# fits the PCA to the scaled data\n",
    "pca = PCA()\n",
    "pca.fit(x_train_sc)"
   ]
  },
  {
   "cell_type": "code",
   "execution_count": 21,
   "id": "6b3d5acb-0e4d-4ae2-91d0-dfb6e1540806",
   "metadata": {},
   "outputs": [],
   "source": [
    "\n",
    "# PC transforming and scaling training and validation data \n",
    "# Fitting validation and training x-data to dataframe\n",
    "pca_features = ['pc'+str(i) for i in range(1,7)]\n",
    "df_pca = pd.DataFrame(pca.transform(x_train_sc),columns = pca_features)\n",
    "x_train_pca = pd.DataFrame(pca.transform(x_train_sc),columns = pca_features)\n",
    "x_val_sc = scaler.transform(x_val)\n",
    "x_val_pca = pd.DataFrame(pca.transform(x_val_sc),columns = pca_features)"
   ]
  },
  {
   "cell_type": "code",
   "execution_count": 22,
   "id": "3462022f-1b68-4a7d-9b6d-a224f633e40c",
   "metadata": {},
   "outputs": [
    {
     "name": "stdout",
     "output_type": "stream",
     "text": [
      "['median_income', 'housing_median_age', 'households', 'population', 'total_rooms', 'total_bedrooms']\n"
     ]
    }
   ],
   "source": [
    "# list comp which creates a deep copy\n",
    "# This is for original feature set:\n",
    "fs = [feat for feat in features]\n",
    "important_features = []\n",
    "# train linear models on each subset of 5 from fs, and remove from fs the least important.\n",
    "while len(fs)>0:\n",
    "    if len(fs)==1:\n",
    "        important_features.insert(0,fs[0])\n",
    "        break\n",
    "    res = []\n",
    "    for comb in combinations(fs,len(fs)-1):\n",
    "        missing = [_ for _ in fs if _ not in list(comb)][0]\n",
    "        comb = list(comb)\n",
    "        lr.fit(x_train[comb],y_train)\n",
    "        score = lr.score(x_val[comb],y_val)\n",
    "        res.append((missing,score))\n",
    "    least_important = max(res,key = lambda t:t[1])[0]\n",
    "    important_features.insert(0,least_important)\n",
    "    fs.remove(least_important)\n",
    "    \n",
    "\n",
    "#print features from most to least important:\n",
    "print(important_features)"
   ]
  },
  {
   "cell_type": "code",
   "execution_count": 23,
   "id": "7ac4048a-8369-476e-b5e3-feec65a59ba1",
   "metadata": {},
   "outputs": [],
   "source": [
    "# now, check accuracy of our model with the first most predictive feature, the first two, ...\n",
    "# appending this to list\n",
    "acc = []\n",
    "for i in range(1,len(important_features)+1):\n",
    "    lr.fit(x_train[important_features[:i]],y_train)\n",
    "    acc.append(lr.score(x_val[important_features[:i]],y_val))"
   ]
  },
  {
   "cell_type": "code",
   "execution_count": 24,
   "id": "8da5bea0-10b6-4338-9975-eff37b97ea13",
   "metadata": {},
   "outputs": [],
   "source": [
    "#1. Run feature selection by elimination on the principle components the same way we did on the original feature set.\n",
    "#Compute the accuracies on the validation set using the most predictive n features, as n = 1, ..., 6.\n",
    "#Plot these accuracies vs the accuracies we got by doing elimination on the original feature set.\n",
    "#Is the set of n most predictive principal components more predictive than the set of n most predictive original features?"
   ]
  },
  {
   "cell_type": "code",
   "execution_count": 25,
   "id": "0ef4b080-c53b-4b9f-befd-dcb65a126251",
   "metadata": {},
   "outputs": [
    {
     "name": "stdout",
     "output_type": "stream",
     "text": [
      "['pc1', 'pc2', 'pc3', 'pc4', 'pc5', 'pc6']\n"
     ]
    }
   ],
   "source": [
    "# list comp which creates a deep copy\n",
    "# This is for pca feature set:\n",
    "fs1 = [feat for feat in pca_features]\n",
    "print(fs1)\n",
    "pcaimp_features= []"
   ]
  },
  {
   "cell_type": "code",
   "execution_count": 26,
   "id": "605c2f76-e738-4dfc-9074-5639ac50e34b",
   "metadata": {},
   "outputs": [
    {
     "name": "stdout",
     "output_type": "stream",
     "text": [
      "['pc2', 'pc3', 'pc5', 'pc4', 'pc1', 'pc6']\n"
     ]
    }
   ],
   "source": [
    "# train linear models on each subset of 5 from fs1, and remove from fs1 the least important.\n",
    "while len(fs1)>0:\n",
    "    if len(fs1)==1:\n",
    "        pcaimp_features.insert(0,fs1[0])\n",
    "        break\n",
    "    res1 = []\n",
    "    for comb in combinations(fs1,len(fs1)-1):\n",
    "        missing = [_ for _ in fs1 if _ not in list(comb)][0]\n",
    "        comb = list(comb)\n",
    "        lr.fit(x_train_pca[comb],y_train)\n",
    "        score = lr.score(x_val_pca[comb],y_val)\n",
    "        res1.append((missing,score))\n",
    "    least_important = max(res1,key = lambda t:t[1])[0]\n",
    "    pcaimp_features.insert(0,least_important)\n",
    "    fs1.remove(least_important)\n",
    "\n",
    "#print most predictive principal components\n",
    "print(pcaimp_features)"
   ]
  },
  {
   "cell_type": "code",
   "execution_count": 27,
   "id": "b1653f92-6d71-4099-9d0a-4f171ea5a82f",
   "metadata": {},
   "outputs": [
    {
     "data": {
      "text/plain": [
       "[0.2933220213824711,\n",
       " 0.49464544219376727,\n",
       " 0.5323471711320591,\n",
       " 0.5560358369251055,\n",
       " 0.5615219099178586,\n",
       " 0.5614677159523239]"
      ]
     },
     "execution_count": 27,
     "metadata": {},
     "output_type": "execute_result"
    }
   ],
   "source": [
    "# checking PC accuracy of our model with the first of the most important pc, the first two, ...\n",
    "# then appending scores in list\n",
    "pcacc = []\n",
    "for i in range(1,len(pcaimp_features)+1):\n",
    "    lr.fit(x_train_pca[pcaimp_features[:i]],y_train)\n",
    "    pcacc.append(lr.score(x_val_pca[pcaimp_features[:i]],y_val))\n",
    "\n",
    "pcacc"
   ]
  },
  {
   "cell_type": "code",
   "execution_count": 28,
   "id": "d85c3c12-43a5-4a4d-8829-09258ac5baec",
   "metadata": {},
   "outputs": [
    {
     "data": {
      "image/png": "[encoded data removed]",
      "text/plain": [
       "<Figure size 640x480 with 1 Axes>"
      ]
     },
     "metadata": {},
     "output_type": "display_data"
    }
   ],
   "source": [
    "#plotting validation set accuracies from n most predictive features vs accuracies from \n",
    "# n most predictive PCs\n",
    "fig,ax = plt.subplots()\n",
    "ax.scatter(range(1,len(important_features)+1),acc, label = 'original');\n",
    "ax.scatter(range(1,len(pcaimp_features)+1),pcacc, label = 'pca');\n",
    "ax.legend();\n"
   ]
  },
  {
   "cell_type": "code",
   "execution_count": 29,
   "id": "5d70b06b-7676-498f-ba81-fead56527a45",
   "metadata": {},
   "outputs": [],
   "source": [
    "# I would argue that the set of n most predictive PCs are more accurate compared to the set of n most \n",
    "# predictable original features, given that more than one principal component is used."
   ]
  },
  {
   "cell_type": "code",
   "execution_count": 30,
   "id": "7751d452-5330-47c6-ba38-713f7b1bd134",
   "metadata": {},
   "outputs": [],
   "source": [
    "#2 Do feature elimination on the original set of six features using a selection of regression models:"
   ]
  },
  {
   "cell_type": "code",
   "execution_count": 31,
   "id": "7b1b6225-4a74-4948-9ac5-ddd3b0e62760",
   "metadata": {},
   "outputs": [],
   "source": [
    "# Lasso selection"
   ]
  },
  {
   "cell_type": "code",
   "execution_count": 32,
   "id": "b33d3681-0dbd-4d97-8b28-130e0f9839e0",
   "metadata": {},
   "outputs": [],
   "source": [
    "from sklearn.linear_model import Lasso\n",
    "ls = Lasso()"
   ]
  },
  {
   "cell_type": "code",
   "execution_count": 33,
   "id": "0e188299-26e2-4cea-b30b-82aca4023897",
   "metadata": {},
   "outputs": [
    {
     "name": "stdout",
     "output_type": "stream",
     "text": [
      "Lasso Selection Model:  ['median_income', 'housing_median_age', 'households', 'population', 'total_rooms', 'total_bedrooms']\n"
     ]
    }
   ],
   "source": [
    "fslasso = [feat for feat in features]\n",
    "importantlasso_features = []\n",
    "# train linear models on each subset of 5 from fs, and remove from fs the least important.\n",
    "while len(fslasso)>0:\n",
    "    if len(fslasso)==1:\n",
    "        importantlasso_features.insert(0,fslasso[0])\n",
    "        break\n",
    "    res = []\n",
    "    for comb in combinations(fslasso,len(fslasso)-1):\n",
    "        missing = [_ for _ in fslasso if _ not in list(comb)][0]\n",
    "        comb = list(comb)\n",
    "        ls.fit(x_train[comb],y_train)\n",
    "        score = ls.score(x_val[comb],y_val)\n",
    "        res.append((missing,score))\n",
    "    least_important = max(res,key = lambda t:t[1])[0]\n",
    "    importantlasso_features.insert(0,least_important)\n",
    "    fslasso.remove(least_important)\n",
    "\n",
    "#Using Lasso selection, the feature importance list is printed from most to least important:\n",
    "#No change in feature importance from Linear Regression\n",
    "print(\"Lasso Selection Model: \" ,importantlasso_features)    \n"
   ]
  },
  {
   "cell_type": "code",
   "execution_count": 34,
   "id": "a542eeec-cad6-434f-8e2f-dc832a574af7",
   "metadata": {},
   "outputs": [],
   "source": [
    "# Ridge Selection"
   ]
  },
  {
   "cell_type": "code",
   "execution_count": 35,
   "id": "e9fcbb7a-eb46-4330-9adc-8dd6d6d346be",
   "metadata": {},
   "outputs": [],
   "source": [
    "from sklearn.linear_model import Ridge\n",
    "ri = Ridge()"
   ]
  },
  {
   "cell_type": "code",
   "execution_count": 36,
   "id": "b15d8b89-32c0-40fc-becc-b6e47a15a182",
   "metadata": {},
   "outputs": [
    {
     "name": "stdout",
     "output_type": "stream",
     "text": [
      "Ridge Selection Model:  ['median_income', 'housing_median_age', 'households', 'population', 'total_rooms', 'total_bedrooms']\n"
     ]
    }
   ],
   "source": [
    "fsridge = [feat for feat in features]\n",
    "importantridge_features = []\n",
    "# train linear models on each subset of 5 from fs, and remove from fs the least important.\n",
    "while len(fsridge)>0:\n",
    "    if len(fsridge)==1:\n",
    "        importantridge_features.insert(0,fsridge[0])\n",
    "        break\n",
    "    res = []\n",
    "    for comb in combinations(fsridge,len(fsridge)-1):\n",
    "        missing = [_ for _ in fsridge if _ not in list(comb)][0]\n",
    "        comb = list(comb)\n",
    "        ri.fit(x_train[comb],y_train)\n",
    "        score = ri.score(x_val[comb],y_val)\n",
    "        res.append((missing,score))\n",
    "    least_important = max(res,key = lambda t:t[1])[0]\n",
    "    importantridge_features.insert(0,least_important)\n",
    "    fsridge.remove(least_important)\n",
    "\n",
    "#Using Lasso selection, the feature importance list is printed from most to least important:\n",
    "#No change in feature importance from Linear Regression and Lasso Selection\n",
    "print(\"Ridge Selection Model: \" ,importantridge_features)  "
   ]
  },
  {
   "cell_type": "code",
   "execution_count": 37,
   "id": "3b95121e-4a25-49e8-bcdd-aa8b142ed26d",
   "metadata": {},
   "outputs": [],
   "source": [
    "from sklearn.linear_model import ElasticNet\n",
    "el = ElasticNet()"
   ]
  },
  {
   "cell_type": "code",
   "execution_count": 38,
   "id": "7e22b4af-c862-4ec9-b6ca-7da21ad6d2d0",
   "metadata": {},
   "outputs": [
    {
     "name": "stdout",
     "output_type": "stream",
     "text": [
      "Elastic-Net Model:  ['median_income', 'housing_median_age', 'households', 'population', 'total_rooms', 'total_bedrooms']\n"
     ]
    }
   ],
   "source": [
    "fselnet = [feat for feat in features]\n",
    "importantelnet_features = []\n",
    "# train linear models on each subset of 5 from fs, and remove from fs the least important.\n",
    "while len(fselnet)>0:\n",
    "    if len(fselnet)==1:\n",
    "        importantelnet_features.insert(0,fselnet[0])\n",
    "        break\n",
    "    res = []\n",
    "    for comb in combinations(fselnet,len(fselnet)-1):\n",
    "        missing = [_ for _ in fselnet if _ not in list(comb)][0]\n",
    "        comb = list(comb)\n",
    "        el.fit(x_train[comb],y_train)\n",
    "        score = el.score(x_val[comb],y_val)\n",
    "        res.append((missing,score))\n",
    "    least_important = max(res,key = lambda t:t[1])[0]\n",
    "    importantelnet_features.insert(0,least_important)\n",
    "    fselnet.remove(least_important)\n",
    "\n",
    "#Using Elastic-Net selection, the feature importance list is printed from most to least important:\n",
    "#No change in feature importance from Linear Regression , Ridge and Lasso Selection\n",
    "print(\"Elastic-Net Model: \" ,importantelnet_features) "
   ]
  },
  {
   "cell_type": "code",
   "execution_count": 39,
   "id": "78a05c2f-e145-4f85-a07b-44aef1e018a5",
   "metadata": {},
   "outputs": [],
   "source": [
    "#References:\n",
    "# Lecture Notes\n",
    "# scikit-learn.org/stable/modules/linear_model.html\n"
   ]
  }
 ],
 "metadata": {
  "kernelspec": {
   "display_name": "Python 3 (ipykernel)",
   "language": "python",
   "name": "python3"
  },
  "language_info": {
   "codemirror_mode": {
    "name": "ipython",
    "version": 3
   },
   "file_extension": ".py",
   "mimetype": "text/x-python",
   "name": "python",
   "nbconvert_exporter": "python",
   "pygments_lexer": "ipython3",
   "version": "3.11.4"
  }
 },
 "nbformat": 4,
 "nbformat_minor": 5
}
