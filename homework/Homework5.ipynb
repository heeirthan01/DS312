{
 "cells": [
  {
   "cell_type": "code",
   "execution_count": 1,
   "id": "e7feaa54-143e-4659-9b64-e5c10ea9a737",
   "metadata": {},
   "outputs": [],
   "source": [
    "## Section A: Multiprocessing"
   ]
  },
  {
   "cell_type": "code",
   "execution_count": 2,
   "id": "9586c71b-c672-4ddc-aa2a-9b9ef5d496be",
   "metadata": {},
   "outputs": [],
   "source": [
    "#1. Write a function which accepts a positive integer n and returns the Collatz length of n."
   ]
  },
  {
   "cell_type": "code",
   "execution_count": 1,
   "id": "b4c4cb63-66fb-4fc9-844d-c502f01fed5b",
   "metadata": {},
   "outputs": [],
   "source": [
    "import matplotlib.pyplot as plt\n",
    "import pandas as pd\n",
    "from sklearn.model_selection import train_test_split\n",
    "import multiprocessing\n",
    "from multiprocessing import Pool\n",
    "from sklearn.model_selection import KFold, train_test_split\n",
    "from sklearn.tree import DecisionTreeRegressor\n",
    "from itertools import product\n",
    "import numpy as np\n",
    "from os import cpu_count"
   ]
  },
  {
   "cell_type": "code",
   "execution_count": 2,
   "id": "53026f2e-8fe4-499f-b877-8a7415dcf9cd",
   "metadata": {},
   "outputs": [],
   "source": [
    "def collatz_length(n):\n",
    "    if(n<=0):\n",
    "        return \"Input must be positive!\"\n",
    "\n",
    "    length = 0\n",
    "    while n!=1:\n",
    "        if n%2==0:\n",
    "            n=n//2\n",
    "        else:\n",
    "            n=(n*3)+1\n",
    "        length=length+1\n",
    "    \n",
    "    return length     "
   ]
  },
  {
   "cell_type": "code",
   "execution_count": 3,
   "id": "545f70f1-5e90-428a-8990-3be8cf3dce8c",
   "metadata": {},
   "outputs": [],
   "source": [
    "no_cores = multiprocessing.cpu_count()"
   ]
  },
  {
   "cell_type": "code",
   "execution_count": 4,
   "id": "df90f011-695e-4316-90f3-9cffa9af2bc1",
   "metadata": {},
   "outputs": [],
   "source": [
    "#Personal computer has 8 cores.\n",
    "#n = 10**5\n",
    "#with Pool(processes = no_cores-1) as p:\n",
    "#    collatz_results = p.map(collatz_length,range(1,n+1))"
   ]
  },
  {
   "cell_type": "code",
   "execution_count": 5,
   "id": "8f966c90-842c-4341-8c0c-aa3ff37ed66d",
   "metadata": {},
   "outputs": [],
   "source": [
    "# Section B: Pruning"
   ]
  },
  {
   "cell_type": "code",
   "execution_count": 6,
   "id": "8c23c15b-221c-4522-ad77-96b596a2ac5c",
   "metadata": {},
   "outputs": [],
   "source": [
    "df = pd.read_csv('https://raw.githubusercontent.com/datasciencedojo/datasets/master/titanic.csv')"
   ]
  },
  {
   "cell_type": "code",
   "execution_count": 7,
   "id": "17c5d7cc-9d40-494b-87f2-a6a6ba9f9ae9",
   "metadata": {},
   "outputs": [],
   "source": [
    "#Represent 'Sex' column as integers:\n",
    "df['Sex'] = df.apply(lambda row:int(row['Sex']=='male'),axis=1)"
   ]
  },
  {
   "cell_type": "code",
   "execution_count": 8,
   "id": "16505c04-6a06-47ce-98a2-0e69eaf529d5",
   "metadata": {},
   "outputs": [],
   "source": [
    "#Selecting feature subset that will help predict survived target variable:\n",
    "features = ['Pclass', 'Sex', 'Age', 'SibSp','Parch','Fare']\n",
    "target = ['Survived']"
   ]
  },
  {
   "cell_type": "code",
   "execution_count": 9,
   "id": "b130aff7-194e-4b4c-a038-d80e6319a5e9",
   "metadata": {},
   "outputs": [],
   "source": [
    "#60/40 train test split \n",
    "df = df.dropna(subset = features+target)\n",
    "x_tr,x_va,y_tr,y_va = train_test_split(df[features],df[target],test_size = 0.9,random_state=0)"
   ]
  },
  {
   "cell_type": "code",
   "execution_count": 58,
   "id": "b3e23a59-77be-4639-8c22-2cd081767a28",
   "metadata": {},
   "outputs": [],
   "source": [
    "#Finding optimal value of alpha using 3-fold cross validation:\n",
    "def fit_tree(inpt):\n",
    "    x_tra,y_tra,alpha = inpt\n",
    "    tr = DecisionTreeRegressor(ccp_alpha=alpha)\n",
    "    tr.fit(x_tra, y_tra)\n",
    "    return(tr)"
   ]
  },
  {
   "cell_type": "code",
   "execution_count": null,
   "id": "e921957f-65ff-4884-ba5e-a64fa1b60de1",
   "metadata": {},
   "outputs": [],
   "source": [
    "kf = KFold(n_splits=3)\n",
    "kf.get_n_splits(x_tr)\n",
    "\n",
    "dfs_acc = [] # a list to store our df_acc dataframe for each split\n",
    "\n",
    "optimum_alphas = [] # a list to store the best alpha value for each split.\n",
    "for train_index, val_index in kf.split(x_tr): # this loop is over the cross-val splits\n",
    "    x_tra = x_tr.iloc[train_index]\n",
    "    x_val = x_tr.iloc[val_index]\n",
    "    y_tra = y_tr.iloc[train_index]\n",
    "    y_val = y_tr.iloc[val_index]\n",
    "    \n",
    "    tr = DecisionTreeRegressor()\n",
    "    path = tr.cost_complexity_pruning_path(x_tra, y_tra) # we must compute the ccp_alphas for each split\n",
    "    ccp_alphas, impurities = path.ccp_alphas, path.impurities\n",
    "    \n",
    "    inpt = product([x_tra],[y_tra],ccp_alphas) # assembling the input for the multiprocessing distribution\n",
    "    \n",
    "    cores = cpu_count() # get the number of CPUs\n",
    "    \n",
    "    with Pool(processes = cores-1) as p:\n",
    "        trees = p.map(fit_tree,inpt)\n",
    "\n",
    "    data = [] # data for a dataframe showing the scores and attributes of each tree\n",
    "    for tr in trees:\n",
    "        alpha = tr.ccp_alpha\n",
    "        acc_tr = tr.score(x_tra,y_tra)\n",
    "        acc_va = tr.score(x_val,y_val)\n",
    "        n_leaves = tr.get_n_leaves()\n",
    "        depth = tr.get_depth()\n",
    "        data.append({'alpha':alpha,'depth':depth,'n_leaves':n_leaves,\n",
    "                     'acc_tr':acc_tr,'acc_va':acc_va})\n",
    "    df_acc = pd.DataFrame(data)\n",
    "    dfs_acc.append(df_acc)\n",
    "    best_idx = df_acc['acc_va'].idxmax() # find the row with the best accuracy on the validation set\n",
    "    best_row = df_acc.loc[best_idx]\n",
    "    optimum_alphas.append(best_row['alpha'])"
   ]
  },
  {
   "cell_type": "code",
   "execution_count": null,
   "id": "0a1ab250-c50f-41f2-a6a6-f551ff278c1f",
   "metadata": {},
   "outputs": [],
   "source": []
  }
 ],
 "metadata": {
  "kernelspec": {
   "display_name": "Python 3 (ipykernel)",
   "language": "python",
   "name": "python3"
  },
  "language_info": {
   "codemirror_mode": {
    "name": "ipython",
    "version": 3
   },
   "file_extension": ".py",
   "mimetype": "text/x-python",
   "name": "python",
   "nbconvert_exporter": "python",
   "pygments_lexer": "ipython3",
   "version": "3.11.4"
  }
 },
 "nbformat": 4,
 "nbformat_minor": 5
}
